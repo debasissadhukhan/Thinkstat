{
 "cells": [
  {
   "cell_type": "markdown",
   "metadata": {},
   "source": [
    "# Exercise 5.1"
   ]
  },
  {
   "cell_type": "code",
   "execution_count": 2,
   "metadata": {},
   "outputs": [
    {
     "name": "stdout",
     "output_type": "stream",
     "text": [
      "Probability of geting a total of 8 and one of the dice is 6 out of rolling two dice is = 0.05601\n"
     ]
    }
   ],
   "source": [
    "import numpy as np\n",
    "\n",
    "def roll_dice():\n",
    "    return np.random.choice([1,2,3,4,5,6])\n",
    "\n",
    "def experiment_sum8(N):\n",
    "    count = 0\n",
    "    for exp in range(N):\n",
    "        first = roll_dice()\n",
    "        second = roll_dice()\n",
    "        if (first + second == 8) :\n",
    "            count += 1\n",
    "    return count/N\n",
    "\n",
    "def experiment_sum8_one6(N):\n",
    "    count = 0\n",
    "    for exp in range(N):\n",
    "        first = roll_dice()\n",
    "        second = roll_dice()\n",
    "        if (first + second == 8) and (first == 6 or second == 6):\n",
    "            count += 1\n",
    "    return count/N\n",
    "\n",
    "def trial(experiment_name,No_of_trials,No_of_experiments):\n",
    "    outcome = []\n",
    "    for trial in range(No_of_trials):\n",
    "        outcome.append(experiment_name(No_of_experiments))   \n",
    "    \n",
    "    return np.array(outcome).mean()\n",
    "        \n",
    "def probability_sum8():\n",
    "    return trial(experiment_sum8,100,1000)\n",
    "\n",
    "def probability_sum8_one6():\n",
    "    return trial(experiment_sum8_one6,100,1000)\n",
    "\n",
    "#print(f'Probability of geting a total of 8 out of rolling two dice is = {probability_sum8()}')\n",
    "print(f'Probability of geting a total of 8 and one of the dice is 6 out of rolling two dice is = {probability_sum8_one6()}')"
   ]
  },
  {
   "cell_type": "markdown",
   "metadata": {},
   "source": [
    "# Exercise 5.2"
   ]
  },
  {
   "cell_type": "code",
   "execution_count": 3,
   "metadata": {},
   "outputs": [
    {
     "name": "stdout",
     "output_type": "stream",
     "text": [
      "Probability of geting a all 6 in rolling 100 dice is = 0.0\n"
     ]
    }
   ],
   "source": [
    "from collections import Counter\n",
    "def experiment_100dice_all6(N):\n",
    "    count = 0\n",
    "    for exp in range(N):\n",
    "        outcome = [roll_dice() for roll in range(100)]\n",
    "        if Counter(outcome)[6] == 100 :\n",
    "          count += 1  \n",
    "    return count/N\n",
    "\n",
    "def probability_100dice_all6():\n",
    "    return trial(experiment_100dice_all6,100,1000)\n",
    "\n",
    "print(f'Probability of geting a all 6 in rolling 100 dice is = {probability_100dice_all6()}')"
   ]
  },
  {
   "cell_type": "code",
   "execution_count": 6,
   "metadata": {},
   "outputs": [
    {
     "name": "stdout",
     "output_type": "stream",
     "text": [
      "Probability of geting a no 6 in rolling 100 dice is = 0.0\n"
     ]
    }
   ],
   "source": [
    "def experiment_100dice_no6(N):\n",
    "    count = 0\n",
    "    for exp in range(N):\n",
    "        outcome = [roll_dice() for roll in range(100)]\n",
    "        if Counter(outcome)[6] == 0 :\n",
    "          count += 1  \n",
    "    return count/N\n",
    "\n",
    "def probability_100dice_no6():\n",
    "    return trial(experiment_100dice_all6,100,1000)\n",
    "\n",
    "print(f'Probability of geting a no 6 in rolling 100 dice is = {probability_100dice_no6()}')"
   ]
  },
  {
   "cell_type": "markdown",
   "metadata": {},
   "source": [
    "# Exercise 5.4"
   ]
  },
  {
   "cell_type": "code",
   "execution_count": 9,
   "metadata": {},
   "outputs": [
    {
     "name": "stdout",
     "output_type": "stream",
     "text": [
      "Probability of winning when sticks: 0.341\n",
      "Probability of winning when switches: 0.659\n"
     ]
    }
   ],
   "source": [
    "import numpy as np\n",
    "trials = 1000\n",
    "number_of_wins_stick = 0\n",
    "number_of_wins_switch = 0\n",
    "for i in range(trials):\n",
    "    winning_door = np.random.randint(3)\n",
    "    guess = np.random.randint(3)\n",
    "    if guess == winning_door:\n",
    "        number_of_wins_stick += 1\n",
    "    else:\n",
    "        number_of_wins_switch += 1\n",
    "print(\"Probability of winning when sticks: \" + str(number_of_wins_stick/trials))\n",
    "print(\"Probability of winning when switches: \" + str(number_of_wins_switch/trials))"
   ]
  },
  {
   "cell_type": "markdown",
   "metadata": {},
   "source": [
    "# Exercise 5.5"
   ]
  },
  {
   "cell_type": "code",
   "execution_count": 10,
   "metadata": {},
   "outputs": [
    {
     "name": "stdout",
     "output_type": "stream",
     "text": [
      "Probability of winning when sticks: 0.31\n",
      "Probability of winning when switches: 0.336\n"
     ]
    }
   ],
   "source": [
    "import random\n",
    "trials = 1000\n",
    "number_of_wins_stick = 0\n",
    "number_of_wins_switch = 0\n",
    "for i in range(trials):\n",
    "    doors = [0, 1, 2]\n",
    "    winning_door = np.random.randint(3)\n",
    "    guess = np.random.randint(3)\n",
    "    doors.remove(guess)\n",
    "    result_switch = random.choice(doors) # As one door is removed randomly\n",
    "    if guess == winning_door:\n",
    "        number_of_wins_stick += 1\n",
    "    elif result_switch == winning_door:\n",
    "        number_of_wins_switch += 1\n",
    "print(\"Probability of winning when sticks: \" + str(number_of_wins_stick/trials))\n",
    "print(\"Probability of winning when switches: \" + str(number_of_wins_switch/trials))"
   ]
  },
  {
   "cell_type": "markdown",
   "metadata": {},
   "source": [
    "# Exercise 5.6"
   ]
  },
  {
   "cell_type": "code",
   "execution_count": 11,
   "metadata": {},
   "outputs": [
    {
     "name": "stdout",
     "output_type": "stream",
     "text": [
      "The value of n is 4 and, average is 1002.9626667910647 std is 35.72003307964105\n"
     ]
    }
   ],
   "source": [
    "def baker(N):\n",
    "    mu = 950\n",
    "    sigma = 50\n",
    "    poin = np.random.normal(mu,sigma,N).max()\n",
    "    return poin\n",
    "\n",
    "def get_n():\n",
    "    trials = 1000\n",
    "    n = 2\n",
    "    while n>1:\n",
    "        m = []\n",
    "        for i in range(365):\n",
    "            m.append(baker(n))\n",
    "       \n",
    "        if round(np.array(m).mean()) >= 1000:\n",
    "            return n,m\n",
    "\n",
    "        else:\n",
    "            n += 1\n",
    "            \n",
    "n,m = get_n()        \n",
    "print(f'The value of n is {n} and, average is {np.array(m).mean()} std is {np.array(m).std()}')            \n",
    "        \n"
   ]
  },
  {
   "cell_type": "code",
   "execution_count": 13,
   "metadata": {},
   "outputs": [
    {
     "data": {
      "image/png": "[encoded data removed]",
      "text/plain": [
       "<Figure size 432x288 with 1 Axes>"
      ]
     },
     "metadata": {
      "needs_background": "light"
     },
     "output_type": "display_data"
    }
   ],
   "source": [
    "import matplotlib.pyplot as plt\n",
    "plt.hist(m, 30, density=True)\n",
    "m.sort()\n",
    "sample = np.array(m)\n",
    "mu = sample.mean()\n",
    "sigma = sample.std()\n",
    "plt.plot(sample, 1/(sigma * np.sqrt(2 * np.pi)) *\n",
    "               np.exp( - (sample - mu)**2 / (2 * sigma**2) ),\n",
    "         linewidth=2, color='r')\n",
    "plt.show()"
   ]
  },
  {
   "cell_type": "code",
   "execution_count": 14,
   "metadata": {},
   "outputs": [
    {
     "data": {
      "image/png": "[encoded data removed]",
      "text/plain": [
       "<Figure size 1080x576 with 1 Axes>"
      ]
     },
     "metadata": {
      "needs_background": "light"
     },
     "output_type": "display_data"
    }
   ],
   "source": [
    "from empiricaldist import Cdf\n",
    "m_cdf = Cdf.from_seq(m)\n",
    "sample = np.random.normal(mu,sigma,len(m))\n",
    "sample_cdf = Cdf.from_seq(sample)\n",
    "fig,ax = plt.subplots(figsize = (15,8))\n",
    "m_cdf.plot(label = 'loaf weight')\n",
    "sample_cdf.plot(label = 'Normal Distribution')\n",
    "plt.legend()\n",
    "plt.show()\n"
   ]
  },
  {
   "cell_type": "code",
   "execution_count": 15,
   "metadata": {},
   "outputs": [
    {
     "name": "stdout",
     "output_type": "stream",
     "text": [
      "Probability of getting a loaf of 1000 gm or less is 49.32 %\n"
     ]
    }
   ],
   "source": [
    "print(f'Probability of getting a loaf of 1000 gm or less is {round(m_cdf(1000)*100,2)} %')"
   ]
  },
  {
   "cell_type": "markdown",
   "metadata": {},
   "source": [
    "# Exercise 5.7"
   ]
  },
  {
   "cell_type": "code",
   "execution_count": 22,
   "metadata": {},
   "outputs": [
    {
     "name": "stdout",
     "output_type": "stream",
     "text": [
      "Probability that women is taller than men = 8.6 %\n"
     ]
    }
   ],
   "source": [
    "men_mu = 178\n",
    "men_sigma = np.sqrt(59.4)\n",
    "women_mu = 163\n",
    "women_sigma =np.sqrt(52.8)\n",
    "trial = 1000\n",
    "fav_case = 0\n",
    "for i in range(trial):\n",
    "    m_height = np.random.normal(men_mu,men_sigma,1)\n",
    "    w_height = np.random.normal(women_mu,women_sigma,1)\n",
    "    if w_height > m_height :\n",
    "        fav_case += 1\n",
    "print(f'Probability that women is taller than men = {(fav_case/1000)*100} %')"
   ]
  },
  {
   "cell_type": "code",
   "execution_count": null,
   "metadata": {},
   "outputs": [],
   "source": []
  },
  {
   "cell_type": "code",
   "execution_count": null,
   "metadata": {},
   "outputs": [],
   "source": []
  }
 ],
 "metadata": {
  "kernelspec": {
   "display_name": "Python 3",
   "language": "python",
   "name": "python3"
  },
  "language_info": {
   "codemirror_mode": {
    "name": "ipython",
    "version": 3
   },
   "file_extension": ".py",
   "mimetype": "text/x-python",
   "name": "python",
   "nbconvert_exporter": "python",
   "pygments_lexer": "ipython3",
   "version": "3.7.4"
  }
 },
 "nbformat": 4,
 "nbformat_minor": 2
}
