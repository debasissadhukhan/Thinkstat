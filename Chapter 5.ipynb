{
 "cells": [
  {
   "cell_type": "markdown",
   "metadata": {},
   "source": [
    "# Exercise 5.1"
   ]
  },
  {
   "cell_type": "code",
   "execution_count": 12,
   "metadata": {},
   "outputs": [
    {
     "name": "stdout",
     "output_type": "stream",
     "text": [
      "Probability of geting a total of 8 and one of the dice is 6 out of rolling two dice is = 0.05354999999999999\n"
     ]
    }
   ],
   "source": [
    "import numpy as np\n",
    "\n",
    "def roll_dice():\n",
    "    return np.random.choice([1,2,3,4,5,6])\n",
    "\n",
    "def experiment_sum8(N):\n",
    "    count = 0\n",
    "    for exp in range(N):\n",
    "        first = roll_dice()\n",
    "        second = roll_dice()\n",
    "        if (first + second == 8) :\n",
    "            count += 1\n",
    "    return count/N\n",
    "\n",
    "def experiment_sum8_one6(N):\n",
    "    count = 0\n",
    "    for exp in range(N):\n",
    "        first = roll_dice()\n",
    "        second = roll_dice()\n",
    "        if (first + second == 8) and (first == 6 or second == 6):\n",
    "            count += 1\n",
    "    return count/N\n",
    "\n",
    "def trial(experiment_name,No_of_trials,No_of_experiments):\n",
    "    outcome = []\n",
    "    for trial in range(No_of_trials):\n",
    "        outcome.append(experiment_name(No_of_experiments))   \n",
    "    \n",
    "    return np.array(outcome).mean()\n",
    "        \n",
    "def probability_sum8():\n",
    "    return trial(experiment_sum8,100,1000)\n",
    "\n",
    "def probability_sum8_one6():\n",
    "    return trial(experiment_sum8_one6,100,1000)\n",
    "\n",
    "#print(f'Probability of geting a total of 8 out of rolling two dice is = {probability_sum8()}')\n",
    "print(f'Probability of geting a total of 8 and one of the dice is 6 out of rolling two dice is = {probability_sum8_one6()}')"
   ]
  },
  {
   "cell_type": "markdown",
   "metadata": {},
   "source": [
    "# Exercise 5.2"
   ]
  },
  {
   "cell_type": "code",
   "execution_count": 29,
   "metadata": {},
   "outputs": [
    {
     "name": "stdout",
     "output_type": "stream",
     "text": [
      "Probability of geting a all 6 in rolling 100 dice is = 0.0\n"
     ]
    }
   ],
   "source": [
    "from collections import Counter\n",
    "def experiment_100dice_all6(N):\n",
    "    count = 0\n",
    "    for exp in range(N):\n",
    "        outcome = [roll_dice() for roll in range(100)]\n",
    "        if Counter(outcome)[6] == 100 :\n",
    "          count += 1  \n",
    "    return count/N\n",
    "\n",
    "def probability_100dice_all6():\n",
    "    return trial(experiment_100dice_all6,100,1000)\n",
    "\n",
    "print(f'Probability of geting a all 6 in rolling 100 dice is = {probability_100dice_all6()}')"
   ]
  },
  {
   "cell_type": "code",
   "execution_count": 31,
   "metadata": {},
   "outputs": [
    {
     "name": "stdout",
     "output_type": "stream",
     "text": [
      "Probability of geting a no 6 in rolling 100 dice is = 0.0\n"
     ]
    }
   ],
   "source": [
    "def experiment_100dice_no6(N):\n",
    "    count = 0\n",
    "    for exp in range(N):\n",
    "        outcome = [roll_dice() for roll in range(100)]\n",
    "        if Counter(outcome)[6] == 0 :\n",
    "          count += 1  \n",
    "    return count/N\n",
    "\n",
    "def probability_100dice_no6():\n",
    "    return trial(experiment_100dice_all6,100,1000)\n",
    "\n",
    "print(f'Probability of geting a no 6 in rolling 100 dice is = {probability_100dice_no6()}')"
   ]
  },
  {
   "cell_type": "code",
   "execution_count": 24,
   "metadata": {},
   "outputs": [
    {
     "data": {
      "text/plain": [
       "15"
      ]
     },
     "execution_count": 24,
     "metadata": {},
     "output_type": "execute_result"
    }
   ],
   "source": [
    "Counter(outcome)[6]"
   ]
  },
  {
   "cell_type": "code",
   "execution_count": null,
   "metadata": {},
   "outputs": [],
   "source": []
  },
  {
   "cell_type": "code",
   "execution_count": null,
   "metadata": {},
   "outputs": [],
   "source": []
  }
 ],
 "metadata": {
  "kernelspec": {
   "display_name": "Python 3",
   "language": "python",
   "name": "python3"
  },
  "language_info": {
   "codemirror_mode": {
    "name": "ipython",
    "version": 3
   },
   "file_extension": ".py",
   "mimetype": "text/x-python",
   "name": "python",
   "nbconvert_exporter": "python",
   "pygments_lexer": "ipython3",
   "version": "3.7.4"
  }
 },
 "nbformat": 4,
 "nbformat_minor": 2
}
