{
 "cells": [
  {
   "cell_type": "markdown",
   "metadata": {},
   "source": [
    "# Exercise 1.2"
   ]
  },
  {
   "cell_type": "code",
   "execution_count": 1,
   "metadata": {},
   "outputs": [],
   "source": [
    "import pandas as pd\n",
    "# Reference to extract the columns: http://greenteapress.com/thinkstats/survey.py\n",
    "pregnancies = pd.read_fwf(\"2002FemPreg.dat\", \n",
    "                         names=[\"caseid\", \"nbrnaliv\", \"babysex\", \"birthwgt_lb\",\n",
    "                               \"birthwgt_oz\", \"prglength\", \"outcome\", \"birthord\",\n",
    "                               \"agepreg\", \"finalwgt\"],\n",
    "                         colspecs=[(0, 12), (21, 22), (55, 56), (57, 58), (57, 59),\n",
    "                                (274, 276), (276, 277), (278, 279), (283, 285), (422, 439)])"
   ]
  },
  {
   "cell_type": "markdown",
   "metadata": {},
   "source": [
    "# Exeercise 1.3"
   ]
  },
  {
   "cell_type": "code",
   "execution_count": 2,
   "metadata": {},
   "outputs": [
    {
     "name": "stdout",
     "output_type": "stream",
     "text": [
      "Number of live births = 9148\n",
      "Avgerage length of pregnacy for the first baby (live birth) = 38.60095173351461 weeks\n",
      "Avgerage length of pregnacy for the more than one baby (live birth) = 38.52291446673706 weeks\n",
      "Difference in Mean Pregnancy length for first and more than babies is : 0.07803726677754952 weeks\n"
     ]
    }
   ],
   "source": [
    "live_brith = len(pregnancies[pregnancies['outcome'] == 1])\n",
    "print('Number of live births = ' + str(live_brith))\n",
    "\n",
    "live_briths = pregnancies[pregnancies['outcome'] == 1]\n",
    "first_baby = live_briths[live_briths['birthord'] == 1]\n",
    "more_than_one = live_briths[live_briths['birthord'] != 1]\n",
    "\n",
    "print('Avgerage length of pregnacy for the first baby (live birth) = ' + str(first_baby['prglength'].mean()) + ' weeks')\n",
    "print('Avgerage length of pregnacy for the more than one baby (live birth) = ' + str(more_than_one['prglength'].mean()) + ' weeks')\n",
    "print(\"Difference in Mean Pregnancy length for first and more than babies is : \" + str(first_baby['prglength'].mean() - more_than_one['prglength'].mean()) + ' weeks')"
   ]
  },
  {
   "cell_type": "code",
   "execution_count": 3,
   "metadata": {},
   "outputs": [
    {
     "data": {
      "text/plain": [
       "count    4413.000000\n",
       "mean       38.600952\n",
       "std         2.791901\n",
       "min         0.000000\n",
       "25%        39.000000\n",
       "50%        39.000000\n",
       "75%        40.000000\n",
       "max        48.000000\n",
       "Name: prglength, dtype: float64"
      ]
     },
     "execution_count": 3,
     "metadata": {},
     "output_type": "execute_result"
    }
   ],
   "source": [
    "first_baby['prglength'].describe()"
   ]
  },
  {
   "cell_type": "code",
   "execution_count": 4,
   "metadata": {},
   "outputs": [
    {
     "data": {
      "text/plain": [
       "count    4735.000000\n",
       "mean       38.522914\n",
       "std         2.615852\n",
       "min         4.000000\n",
       "25%        39.000000\n",
       "50%        39.000000\n",
       "75%        39.000000\n",
       "max        50.000000\n",
       "Name: prglength, dtype: float64"
      ]
     },
     "execution_count": 4,
     "metadata": {},
     "output_type": "execute_result"
    }
   ],
   "source": [
    "more_than_one['prglength'].describe()"
   ]
  },
  {
   "cell_type": "code",
   "execution_count": null,
   "metadata": {},
   "outputs": [],
   "source": []
  }
 ],
 "metadata": {
  "kernelspec": {
   "display_name": "Python 3",
   "language": "python",
   "name": "python3"
  },
  "language_info": {
   "codemirror_mode": {
    "name": "ipython",
    "version": 3
   },
   "file_extension": ".py",
   "mimetype": "text/x-python",
   "name": "python",
   "nbconvert_exporter": "python",
   "pygments_lexer": "ipython3",
   "version": "3.7.4"
  }
 },
 "nbformat": 4,
 "nbformat_minor": 2
}
